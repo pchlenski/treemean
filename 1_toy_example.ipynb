{
 "cells": [
  {
   "cell_type": "code",
   "execution_count": null,
   "metadata": {},
   "outputs": [],
   "source": [
    "# Tree mean\n"
   ]
  },
  {
   "cell_type": "code",
   "execution_count": 2,
   "metadata": {},
   "outputs": [],
   "source": [
    "import ete3\n",
    "import networkx as nx\n",
    "\n",
    "import numpy as np\n",
    "import pandas as pd\n",
    "import matplotlib.pyplot as plt\n"
   ]
  },
  {
   "cell_type": "code",
   "execution_count": 4,
   "metadata": {},
   "outputs": [
    {
     "name": "stdout",
     "output_type": "stream",
     "text": [
      "\n",
      "      /-A\n",
      "   /-|\n",
      "--|   \\-B\n",
      "  |\n",
      "   \\-C\n"
     ]
    }
   ],
   "source": [
    "# Get a basic tree\n",
    "\n",
    "tree = ete3.Tree(\"((A:0.1, B:0.2):0.3, C:0.4);\", format=1)\n",
    "\n",
    "print(tree)\n"
   ]
  },
  {
   "cell_type": "code",
   "execution_count": 12,
   "metadata": {},
   "outputs": [
    {
     "name": "stdout",
     "output_type": "stream",
     "text": [
      "\n",
      "\n"
     ]
    },
    {
     "data": {
      "text/plain": [
       "Tree node '' (0x7f0fb89c2b9)"
      ]
     },
     "execution_count": 12,
     "metadata": {},
     "output_type": "execute_result"
    }
   ],
   "source": [
    "def weighted_sum_leaves(\n",
    "    node: ete3.TreeNode, tree: ete3.Tree, leaf_values: dict\n",
    ") -> float:\n",
    "    \"\"\"Return sum_{leaves} (distance to leaf) * leaf_value\"\"\"\n",
    "    leaves = tree.get_leaves()\n",
    "    for leaf in leaves:\n",
    "        if leaf.name not in leaf_values:\n",
    "            leaf_values[leaf.name] = 0\n",
    "\n",
    "    dists = [node.get_distance(leaf) for leaf in leaves]\n",
    "    weights = np.array([leaf_values[leaf.name] for leaf in leaves])\n",
    "    return dists @ weights\n",
    "\n",
    "\n",
    "def find_tree_mean(tree: ete3.Tree, leaf_values: dict) -> ete3.TreeNode:\n",
    "    \"\"\"\n",
    "    Find the node that minimizes the sum of the squared distances to the leaves\n",
    "    \"\"\"\n",
    "\n",
    "    # Start at root\n",
    "    node = tree.get_tree_root()\n",
    "    weighted_sum = np.inf\n",
    "\n",
    "    # Compute the weighted sum of distances to leaves\n",
    "    while not node.is_leaf():\n",
    "        print(node.name, )\n",
    "        candidates = [\n",
    "            weighted_sum_leaves(child, tree, leaf_values)\n",
    "            for child in node.children\n",
    "        ]\n",
    "        min_idx = np.argmin(candidates)\n",
    "        min_weighted_sum = candidates[min_idx]\n",
    "\n",
    "        if min_weighted_sum < weighted_sum:\n",
    "            node = node.children[min_idx]\n",
    "            weighted_sum = min_weighted_sum\n",
    "        else:\n",
    "            break\n",
    "\n",
    "    return node\n",
    "\n",
    "\n",
    "find_tree_mean(tree, {\"A\": 1, \"B\": 2, \"C\": 3})\n"
   ]
  },
  {
   "cell_type": "code",
   "execution_count": 14,
   "metadata": {},
   "outputs": [
    {
     "name": "stdout",
     "output_type": "stream",
     "text": [
      "\n",
      "\n",
      "\n",
      "--A\n",
      "\n",
      "\n",
      "\n",
      "   /-A\n",
      "--|\n",
      "   \\-B\n"
     ]
    }
   ],
   "source": [
    "# Some basic sanity checks:\n",
    "\n",
    "# Minimizer of a single leaf is the leaf\n",
    "sc_1 = find_tree_mean(tree, {\"A\": 1})\n",
    "print(sc_1)\n",
    "\n",
    "# Minimizer of a balanced tree is the root\n",
    "tree_sc_2 = ete3.Tree(\"((A:0.1, B:0.1):0.1, (C:0.1, D:0.1):0.1);\", format=1)\n",
    "sc_2 = find_tree_mean(tree_sc_2, {\"A\": 1, \"B\": 1, \"C\": 1, \"D\": 1})\n",
    "print(sc_2)\n",
    "\n",
    "# Branch length balances out leaf value\n"
   ]
  },
  {
   "cell_type": "code",
   "execution_count": 16,
   "metadata": {},
   "outputs": [
    {
     "name": "stdout",
     "output_type": "stream",
     "text": [
      "\n",
      "   /-A\n",
      "--|\n",
      "   \\-B\n"
     ]
    }
   ],
   "source": [
    "print(sc_2)"
   ]
  },
  {
   "cell_type": "code",
   "execution_count": null,
   "metadata": {},
   "outputs": [],
   "source": []
  }
 ],
 "metadata": {
  "kernelspec": {
   "display_name": "treemean",
   "language": "python",
   "name": "python3"
  },
  "language_info": {
   "codemirror_mode": {
    "name": "ipython",
    "version": 3
   },
   "file_extension": ".py",
   "mimetype": "text/x-python",
   "name": "python",
   "nbconvert_exporter": "python",
   "pygments_lexer": "ipython3",
   "version": "3.11.4"
  },
  "orig_nbformat": 4
 },
 "nbformat": 4,
 "nbformat_minor": 2
}
